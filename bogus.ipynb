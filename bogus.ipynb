{
 "cells": [
  {
   "cell_type": "code",
   "execution_count": 1,
   "id": "af5c47d3-0749-4eb4-aae6-333d11732215",
   "metadata": {
    "execution": {
     "iopub.execute_input": "2024-09-30T17:44:02.062936Z",
     "iopub.status.busy": "2024-09-30T17:44:02.062666Z",
     "iopub.status.idle": "2024-09-30T17:44:03.753392Z",
     "shell.execute_reply": "2024-09-30T17:44:03.752807Z",
     "shell.execute_reply.started": "2024-09-30T17:44:02.062921Z"
    }
   },
   "outputs": [],
   "source": [
    "import os\n",
    "import io\n",
    "import gzip\n",
    "import numpy as np\n",
    "import pandas as pd\n",
    "import matplotlib.pyplot as plt\n",
    "from matplotlib.backends.backend_pdf import PdfPages\n",
    "import random\n",
    "\n",
    "from avro.datafile import DataFileReader, DataFileWriter\n",
    "from avro.io import DatumReader, DatumWriter\n",
    "import fastavro\n",
    "\n",
    "from astropy.time import Time\n",
    "from astropy.io import fits\n",
    "import os\n",
    "import glob\n",
    "from scipy.stats import sigmaclip\n",
    "import glob\n",
    "\n",
    "from astropy.coordinates import SkyCoord\n"
   ]
  },
  {
   "cell_type": "code",
   "execution_count": 2,
   "id": "bfa2a0cf-2d78-426e-92d0-25c541fc18c6",
   "metadata": {
    "execution": {
     "iopub.execute_input": "2024-09-30T17:44:06.221824Z",
     "iopub.status.busy": "2024-09-30T17:44:06.221558Z",
     "iopub.status.idle": "2024-09-30T17:44:06.225703Z",
     "shell.execute_reply": "2024-09-30T17:44:06.225358Z",
     "shell.execute_reply.started": "2024-09-30T17:44:06.221808Z"
    }
   },
   "outputs": [],
   "source": [
    "#FOR MULTIPLE NIGHTS\n",
    "\n",
    "# reading avro packages\n",
    "\n",
    "avro_files= []\n",
    "night_idx = []\n",
    "WINTER_detections=[]\n",
    "m = glob.glob(\"/data/loki/data/winter/20*\")\n",
    "#for i in range(2):  # uncomment to run on just a few of the nights\n",
    "\n",
    "for i in range(len(m)): #for all nights!\n",
    "    idx = m[i].find(\"20\")\n",
    "    night_id = m[i][idx:]\n",
    "    path = '/data/loki/data/winter/' + night_id +'/avro/*'\n",
    "    avro_files.append(glob.glob(path))\n",
    "    night_idx.append(night_id)"
   ]
  },
  {
   "cell_type": "code",
   "execution_count": 3,
   "id": "db747efc-193e-485e-933e-186f4a317bb7",
   "metadata": {
    "execution": {
     "iopub.execute_input": "2024-09-30T17:44:09.382720Z",
     "iopub.status.busy": "2024-09-30T17:44:09.382451Z",
     "iopub.status.idle": "2024-09-30T17:44:09.386852Z",
     "shell.execute_reply": "2024-09-30T17:44:09.386495Z",
     "shell.execute_reply.started": "2024-09-30T17:44:09.382705Z"
    }
   },
   "outputs": [],
   "source": [
    "for i in avro_files:\n",
    "    avro_file = i\n",
    "    # for each avro package in the folder get the folowing:\n",
    "    ra,dec,file,packet_idx,winterID = [],[],[],[],[]\n",
    "    \n",
    "    \n",
    "    for avro in avro_file: \n",
    "        fname = avro\n",
    "        with open(fname,'rb') as f: # read the avro package\n",
    "            freader = fastavro.reader(f) # this has multiple packets\n",
    "            for i,packet in enumerate(freader):\n",
    "                \n",
    "                ra.append(packet['candidate']['ra']) \n",
    "                dec.append(packet['candidate']['dec'])\n",
    "                file.append(fname)\n",
    "                packet_idx.append(i)\n",
    "                winterID.append(packet['objectid'])\n",
    "    \n",
    "    # saving this in a dataframe\n",
    "    \n",
    "    d = {\n",
    "        'WINTER_name':winterID,\n",
    "        'ra':ra,\n",
    "        'dec':dec,\n",
    "        'file':file,\n",
    "        'packet_idx':packet_idx\n",
    "    }\n",
    "    \n",
    "    detections = pd.DataFrame(data=d)\n",
    "    WINTER_detections.append(detections)\n"
   ]
  },
  {
   "cell_type": "code",
   "execution_count": 4,
   "id": "4a36270d-bedb-44b1-99dc-817c89ce2fba",
   "metadata": {
    "execution": {
     "iopub.execute_input": "2024-09-30T17:44:12.448875Z",
     "iopub.status.busy": "2024-09-30T17:44:12.448637Z",
     "iopub.status.idle": "2024-09-30T17:44:12.666222Z",
     "shell.execute_reply": "2024-09-30T17:44:12.665598Z",
     "shell.execute_reply.started": "2024-09-30T17:44:12.448861Z"
    }
   },
   "outputs": [
    {
     "ename": "ValueError",
     "evalue": "No objects to concatenate",
     "output_type": "error",
     "traceback": [
      "\u001b[0;31m---------------------------------------------------------------------------\u001b[0m",
      "\u001b[0;31mValueError\u001b[0m                                Traceback (most recent call last)",
      "Cell \u001b[0;32mIn[4], line 1\u001b[0m\n\u001b[0;32m----> 1\u001b[0m all_detections \u001b[38;5;241m=\u001b[39m \u001b[43mpd\u001b[49m\u001b[38;5;241;43m.\u001b[39;49m\u001b[43mconcat\u001b[49m\u001b[43m(\u001b[49m\u001b[43mWINTER_detections\u001b[49m\u001b[43m)\u001b[49m\n\u001b[1;32m      2\u001b[0m \u001b[38;5;28mprint\u001b[39m(\u001b[38;5;28mlen\u001b[39m(all_detections))\n\u001b[1;32m      4\u001b[0m good_ones \u001b[38;5;241m=\u001b[39m pd\u001b[38;5;241m.\u001b[39mread_csv(\u001b[38;5;124m\"\u001b[39m\u001b[38;5;124m/home/msheshadri/real-bogus/sample_quality/csv/9-9-24-good_cutouts.csv\u001b[39m\u001b[38;5;124m\"\u001b[39m)\n",
      "File \u001b[0;32m/data0/sw/anaconda3/lib/python3.10/site-packages/pandas/core/reshape/concat.py:380\u001b[0m, in \u001b[0;36mconcat\u001b[0;34m(objs, axis, join, ignore_index, keys, levels, names, verify_integrity, sort, copy)\u001b[0m\n\u001b[1;32m    377\u001b[0m \u001b[38;5;28;01melif\u001b[39;00m copy \u001b[38;5;129;01mand\u001b[39;00m using_copy_on_write():\n\u001b[1;32m    378\u001b[0m     copy \u001b[38;5;241m=\u001b[39m \u001b[38;5;28;01mFalse\u001b[39;00m\n\u001b[0;32m--> 380\u001b[0m op \u001b[38;5;241m=\u001b[39m \u001b[43m_Concatenator\u001b[49m\u001b[43m(\u001b[49m\n\u001b[1;32m    381\u001b[0m \u001b[43m    \u001b[49m\u001b[43mobjs\u001b[49m\u001b[43m,\u001b[49m\n\u001b[1;32m    382\u001b[0m \u001b[43m    \u001b[49m\u001b[43maxis\u001b[49m\u001b[38;5;241;43m=\u001b[39;49m\u001b[43maxis\u001b[49m\u001b[43m,\u001b[49m\n\u001b[1;32m    383\u001b[0m \u001b[43m    \u001b[49m\u001b[43mignore_index\u001b[49m\u001b[38;5;241;43m=\u001b[39;49m\u001b[43mignore_index\u001b[49m\u001b[43m,\u001b[49m\n\u001b[1;32m    384\u001b[0m \u001b[43m    \u001b[49m\u001b[43mjoin\u001b[49m\u001b[38;5;241;43m=\u001b[39;49m\u001b[43mjoin\u001b[49m\u001b[43m,\u001b[49m\n\u001b[1;32m    385\u001b[0m \u001b[43m    \u001b[49m\u001b[43mkeys\u001b[49m\u001b[38;5;241;43m=\u001b[39;49m\u001b[43mkeys\u001b[49m\u001b[43m,\u001b[49m\n\u001b[1;32m    386\u001b[0m \u001b[43m    \u001b[49m\u001b[43mlevels\u001b[49m\u001b[38;5;241;43m=\u001b[39;49m\u001b[43mlevels\u001b[49m\u001b[43m,\u001b[49m\n\u001b[1;32m    387\u001b[0m \u001b[43m    \u001b[49m\u001b[43mnames\u001b[49m\u001b[38;5;241;43m=\u001b[39;49m\u001b[43mnames\u001b[49m\u001b[43m,\u001b[49m\n\u001b[1;32m    388\u001b[0m \u001b[43m    \u001b[49m\u001b[43mverify_integrity\u001b[49m\u001b[38;5;241;43m=\u001b[39;49m\u001b[43mverify_integrity\u001b[49m\u001b[43m,\u001b[49m\n\u001b[1;32m    389\u001b[0m \u001b[43m    \u001b[49m\u001b[43mcopy\u001b[49m\u001b[38;5;241;43m=\u001b[39;49m\u001b[43mcopy\u001b[49m\u001b[43m,\u001b[49m\n\u001b[1;32m    390\u001b[0m \u001b[43m    \u001b[49m\u001b[43msort\u001b[49m\u001b[38;5;241;43m=\u001b[39;49m\u001b[43msort\u001b[49m\u001b[43m,\u001b[49m\n\u001b[1;32m    391\u001b[0m \u001b[43m\u001b[49m\u001b[43m)\u001b[49m\n\u001b[1;32m    393\u001b[0m \u001b[38;5;28;01mreturn\u001b[39;00m op\u001b[38;5;241m.\u001b[39mget_result()\n",
      "File \u001b[0;32m/data0/sw/anaconda3/lib/python3.10/site-packages/pandas/core/reshape/concat.py:443\u001b[0m, in \u001b[0;36m_Concatenator.__init__\u001b[0;34m(self, objs, axis, join, keys, levels, names, ignore_index, verify_integrity, copy, sort)\u001b[0m\n\u001b[1;32m    440\u001b[0m \u001b[38;5;28mself\u001b[39m\u001b[38;5;241m.\u001b[39mverify_integrity \u001b[38;5;241m=\u001b[39m verify_integrity\n\u001b[1;32m    441\u001b[0m \u001b[38;5;28mself\u001b[39m\u001b[38;5;241m.\u001b[39mcopy \u001b[38;5;241m=\u001b[39m copy\n\u001b[0;32m--> 443\u001b[0m objs, keys \u001b[38;5;241m=\u001b[39m \u001b[38;5;28;43mself\u001b[39;49m\u001b[38;5;241;43m.\u001b[39;49m\u001b[43m_clean_keys_and_objs\u001b[49m\u001b[43m(\u001b[49m\u001b[43mobjs\u001b[49m\u001b[43m,\u001b[49m\u001b[43m \u001b[49m\u001b[43mkeys\u001b[49m\u001b[43m)\u001b[49m\n\u001b[1;32m    445\u001b[0m \u001b[38;5;66;03m# figure out what our result ndim is going to be\u001b[39;00m\n\u001b[1;32m    446\u001b[0m ndims \u001b[38;5;241m=\u001b[39m \u001b[38;5;28mself\u001b[39m\u001b[38;5;241m.\u001b[39m_get_ndims(objs)\n",
      "File \u001b[0;32m/data0/sw/anaconda3/lib/python3.10/site-packages/pandas/core/reshape/concat.py:505\u001b[0m, in \u001b[0;36m_Concatenator._clean_keys_and_objs\u001b[0;34m(self, objs, keys)\u001b[0m\n\u001b[1;32m    502\u001b[0m     objs_list \u001b[38;5;241m=\u001b[39m \u001b[38;5;28mlist\u001b[39m(objs)\n\u001b[1;32m    504\u001b[0m \u001b[38;5;28;01mif\u001b[39;00m \u001b[38;5;28mlen\u001b[39m(objs_list) \u001b[38;5;241m==\u001b[39m \u001b[38;5;241m0\u001b[39m:\n\u001b[0;32m--> 505\u001b[0m     \u001b[38;5;28;01mraise\u001b[39;00m \u001b[38;5;167;01mValueError\u001b[39;00m(\u001b[38;5;124m\"\u001b[39m\u001b[38;5;124mNo objects to concatenate\u001b[39m\u001b[38;5;124m\"\u001b[39m)\n\u001b[1;32m    507\u001b[0m \u001b[38;5;28;01mif\u001b[39;00m keys \u001b[38;5;129;01mis\u001b[39;00m \u001b[38;5;28;01mNone\u001b[39;00m:\n\u001b[1;32m    508\u001b[0m     objs_list \u001b[38;5;241m=\u001b[39m \u001b[38;5;28mlist\u001b[39m(com\u001b[38;5;241m.\u001b[39mnot_none(\u001b[38;5;241m*\u001b[39mobjs_list))\n",
      "\u001b[0;31mValueError\u001b[0m: No objects to concatenate"
     ]
    }
   ],
   "source": [
    "all_detections = pd.concat(WINTER_detections)\n",
    "print(len(all_detections))\n",
    "\n",
    "good_ones = pd.read_csv(\"/home/msheshadri/real-bogus/sample_quality/csv/9-9-24-good_cutouts.csv\")\n",
    "samples = []\n",
    "for i in range(10):\n",
    "    samples.append(all_detections.iloc[random.randint(0,len(all_detections)-1)])\n",
    "\n",
    "boguses_idx = []\n",
    "for k in good_ones['WINTER_name']:\n",
    "    for idx, WINTER_name in enumerate(samples['WINTER_name']):\n",
    "        if WINTER_name != k:\n",
    "            boguses_idx.append(idx)\n",
    "\n",
    "boguses_idx = list(set(boguses_idx))\n",
    "\n",
    "bogus_catalog = []\n",
    "for index in boguses_idx:\n",
    "    if index < len(all_detections):\n",
    "        bogus_catalog.append(all_detections.iloc[index])\n",
    "\n",
    "bogus_catalog= pd.DataFrame(bogus_catalog)\n",
    "bogus_catalog=bogus_catalog.drop_duplicates()\n",
    "\n",
    "bogus_catalog.to_csv(\"./home/msheshadri/real-bogus/bogus/bogus_catalog.csv\")"
   ]
  },
  {
   "cell_type": "code",
   "execution_count": null,
   "id": "929f600b-3c52-4340-94af-a87db36ac64b",
   "metadata": {},
   "outputs": [],
   "source": []
  }
 ],
 "metadata": {
  "kernelspec": {
   "display_name": "Python 3",
   "language": "python",
   "name": "python3"
  },
  "language_info": {
   "codemirror_mode": {
    "name": "ipython",
    "version": 3
   },
   "file_extension": ".py",
   "mimetype": "text/x-python",
   "name": "python",
   "nbconvert_exporter": "python",
   "pygments_lexer": "ipython3",
   "version": "3.10.13"
  }
 },
 "nbformat": 4,
 "nbformat_minor": 5
}
